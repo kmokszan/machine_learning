{
 "cells": [
  {
   "cell_type": "code",
   "execution_count": 32,
   "metadata": {},
   "outputs": [],
   "source": [
    "from __future__ import absolute_import\n",
    "from __future__ import division\n",
    "from __future__ import print_function"
   ]
  },
  {
   "cell_type": "code",
   "execution_count": 33,
   "metadata": {},
   "outputs": [],
   "source": [
    "import os\n",
    "import collections\n",
    "import itertools"
   ]
  },
  {
   "cell_type": "code",
   "execution_count": 34,
   "metadata": {},
   "outputs": [],
   "source": [
    "import numpy as np\n",
    "import pandas as pd\n",
    "import tensorflow as tf"
   ]
  },
  {
   "cell_type": "code",
   "execution_count": 35,
   "metadata": {},
   "outputs": [],
   "source": [
    "from six.moves import urllib"
   ]
  },
  {
   "cell_type": "code",
   "execution_count": 36,
   "metadata": {},
   "outputs": [
    {
     "name": "stdout",
     "output_type": "stream",
     "text": [
      "1.14.0\n",
      "0.22.0\n",
      "1.8.0\n"
     ]
    }
   ],
   "source": [
    "print(np.__version__)\n",
    "print(pd.__version__)\n",
    "print(tf.__version__)"
   ]
  },
  {
   "cell_type": "code",
   "execution_count": 37,
   "metadata": {},
   "outputs": [],
   "source": [
    "URL_PATH = \"https://archive.ics.uci.edu/ml/machine-learning-databases/autos/imports-85.data\"\n",
    "\n",
    "DOWNLOADED_FILENAME = \"automobiles.csv\"\n",
    "\n",
    "def download_data():\n",
    "    if not os.path.exists(DOWNLOADED_FILENAME):\n",
    "        filename, _ = urllib.request.urlretrieve(URL_PATH, DOWNLOADED_FILENAME)\n",
    "\n",
    "    print('Found and verified file from this path: ', URL_PATH)\n",
    "    print('Downloaded file: ', DOWNLOADED_FILENAME)        "
   ]
  },
  {
   "cell_type": "code",
   "execution_count": 38,
   "metadata": {},
   "outputs": [
    {
     "name": "stdout",
     "output_type": "stream",
     "text": [
      "Found and verified file from this path:  https://archive.ics.uci.edu/ml/machine-learning-databases/autos/imports-85.data\n",
      "Downloaded file:  automobiles.csv\n"
     ]
    }
   ],
   "source": [
    "download_data()"
   ]
  },
  {
   "cell_type": "code",
   "execution_count": 39,
   "metadata": {},
   "outputs": [],
   "source": [
    "COLUMN_TYPES = collections.OrderedDict([\n",
    "    (\"symboling\", int),\n",
    "    (\"normalized-losses\", float),\n",
    "    (\"make\", str),\n",
    "    (\"fuel-type\", str),\n",
    "    (\"aspiration\", str),\n",
    "    (\"num-of-doors\", str),\n",
    "    (\"body-style\", str),\n",
    "    (\"drive-wheels\", str),\n",
    "    (\"engine-location\", str),\n",
    "    (\"wheel-base\", float),\n",
    "    (\"length\", float),\n",
    "    (\"width\", float),\n",
    "    (\"height\", float),\n",
    "    (\"curb-weight\", float),\n",
    "    (\"engine-type\", str),\n",
    "    (\"num-of-cylinders\", str),\n",
    "    (\"engine-size\", float),\n",
    "    (\"fuel-system\", str),\n",
    "    (\"bore\", float),\n",
    "    (\"stroke\", float),\n",
    "    (\"compression-ratio\", float),\n",
    "    (\"horsepower\", float),\n",
    "    (\"peak-rpm\", float),\n",
    "    (\"city-mpg\", float),\n",
    "    (\"highway-mpg\", float),\n",
    "    (\"price\", float)\n",
    "])"
   ]
  },
  {
   "cell_type": "code",
   "execution_count": 40,
   "metadata": {},
   "outputs": [],
   "source": [
    "df = pd.read_csv(DOWNLOADED_FILENAME, names=COLUMN_TYPES.keys(),\n",
    "                 dtype=COLUMN_TYPES, na_values=\"?\")"
   ]
  },
  {
   "cell_type": "code",
   "execution_count": 41,
   "metadata": {},
   "outputs": [
    {
     "data": {
      "text/html": [
       "<div>\n",
       "<style scoped>\n",
       "    .dataframe tbody tr th:only-of-type {\n",
       "        vertical-align: middle;\n",
       "    }\n",
       "\n",
       "    .dataframe tbody tr th {\n",
       "        vertical-align: top;\n",
       "    }\n",
       "\n",
       "    .dataframe thead th {\n",
       "        text-align: right;\n",
       "    }\n",
       "</style>\n",
       "<table border=\"1\" class=\"dataframe\">\n",
       "  <thead>\n",
       "    <tr style=\"text-align: right;\">\n",
       "      <th></th>\n",
       "      <th>symboling</th>\n",
       "      <th>normalized-losses</th>\n",
       "      <th>make</th>\n",
       "      <th>fuel-type</th>\n",
       "      <th>aspiration</th>\n",
       "      <th>num-of-doors</th>\n",
       "      <th>body-style</th>\n",
       "      <th>drive-wheels</th>\n",
       "      <th>engine-location</th>\n",
       "      <th>wheel-base</th>\n",
       "      <th>...</th>\n",
       "      <th>engine-size</th>\n",
       "      <th>fuel-system</th>\n",
       "      <th>bore</th>\n",
       "      <th>stroke</th>\n",
       "      <th>compression-ratio</th>\n",
       "      <th>horsepower</th>\n",
       "      <th>peak-rpm</th>\n",
       "      <th>city-mpg</th>\n",
       "      <th>highway-mpg</th>\n",
       "      <th>price</th>\n",
       "    </tr>\n",
       "  </thead>\n",
       "  <tbody>\n",
       "    <tr>\n",
       "      <th>0</th>\n",
       "      <td>3</td>\n",
       "      <td>NaN</td>\n",
       "      <td>alfa-romero</td>\n",
       "      <td>gas</td>\n",
       "      <td>std</td>\n",
       "      <td>two</td>\n",
       "      <td>convertible</td>\n",
       "      <td>rwd</td>\n",
       "      <td>front</td>\n",
       "      <td>88.6</td>\n",
       "      <td>...</td>\n",
       "      <td>130.0</td>\n",
       "      <td>mpfi</td>\n",
       "      <td>3.47</td>\n",
       "      <td>2.68</td>\n",
       "      <td>9.0</td>\n",
       "      <td>111.0</td>\n",
       "      <td>5000.0</td>\n",
       "      <td>21.0</td>\n",
       "      <td>27.0</td>\n",
       "      <td>13495.0</td>\n",
       "    </tr>\n",
       "    <tr>\n",
       "      <th>1</th>\n",
       "      <td>3</td>\n",
       "      <td>NaN</td>\n",
       "      <td>alfa-romero</td>\n",
       "      <td>gas</td>\n",
       "      <td>std</td>\n",
       "      <td>two</td>\n",
       "      <td>convertible</td>\n",
       "      <td>rwd</td>\n",
       "      <td>front</td>\n",
       "      <td>88.6</td>\n",
       "      <td>...</td>\n",
       "      <td>130.0</td>\n",
       "      <td>mpfi</td>\n",
       "      <td>3.47</td>\n",
       "      <td>2.68</td>\n",
       "      <td>9.0</td>\n",
       "      <td>111.0</td>\n",
       "      <td>5000.0</td>\n",
       "      <td>21.0</td>\n",
       "      <td>27.0</td>\n",
       "      <td>16500.0</td>\n",
       "    </tr>\n",
       "    <tr>\n",
       "      <th>2</th>\n",
       "      <td>1</td>\n",
       "      <td>NaN</td>\n",
       "      <td>alfa-romero</td>\n",
       "      <td>gas</td>\n",
       "      <td>std</td>\n",
       "      <td>two</td>\n",
       "      <td>hatchback</td>\n",
       "      <td>rwd</td>\n",
       "      <td>front</td>\n",
       "      <td>94.5</td>\n",
       "      <td>...</td>\n",
       "      <td>152.0</td>\n",
       "      <td>mpfi</td>\n",
       "      <td>2.68</td>\n",
       "      <td>3.47</td>\n",
       "      <td>9.0</td>\n",
       "      <td>154.0</td>\n",
       "      <td>5000.0</td>\n",
       "      <td>19.0</td>\n",
       "      <td>26.0</td>\n",
       "      <td>16500.0</td>\n",
       "    </tr>\n",
       "    <tr>\n",
       "      <th>3</th>\n",
       "      <td>2</td>\n",
       "      <td>164.0</td>\n",
       "      <td>audi</td>\n",
       "      <td>gas</td>\n",
       "      <td>std</td>\n",
       "      <td>four</td>\n",
       "      <td>sedan</td>\n",
       "      <td>fwd</td>\n",
       "      <td>front</td>\n",
       "      <td>99.8</td>\n",
       "      <td>...</td>\n",
       "      <td>109.0</td>\n",
       "      <td>mpfi</td>\n",
       "      <td>3.19</td>\n",
       "      <td>3.40</td>\n",
       "      <td>10.0</td>\n",
       "      <td>102.0</td>\n",
       "      <td>5500.0</td>\n",
       "      <td>24.0</td>\n",
       "      <td>30.0</td>\n",
       "      <td>13950.0</td>\n",
       "    </tr>\n",
       "    <tr>\n",
       "      <th>4</th>\n",
       "      <td>2</td>\n",
       "      <td>164.0</td>\n",
       "      <td>audi</td>\n",
       "      <td>gas</td>\n",
       "      <td>std</td>\n",
       "      <td>four</td>\n",
       "      <td>sedan</td>\n",
       "      <td>4wd</td>\n",
       "      <td>front</td>\n",
       "      <td>99.4</td>\n",
       "      <td>...</td>\n",
       "      <td>136.0</td>\n",
       "      <td>mpfi</td>\n",
       "      <td>3.19</td>\n",
       "      <td>3.40</td>\n",
       "      <td>8.0</td>\n",
       "      <td>115.0</td>\n",
       "      <td>5500.0</td>\n",
       "      <td>18.0</td>\n",
       "      <td>22.0</td>\n",
       "      <td>17450.0</td>\n",
       "    </tr>\n",
       "  </tbody>\n",
       "</table>\n",
       "<p>5 rows × 26 columns</p>\n",
       "</div>"
      ],
      "text/plain": [
       "   symboling  normalized-losses         make fuel-type aspiration  \\\n",
       "0          3                NaN  alfa-romero       gas        std   \n",
       "1          3                NaN  alfa-romero       gas        std   \n",
       "2          1                NaN  alfa-romero       gas        std   \n",
       "3          2              164.0         audi       gas        std   \n",
       "4          2              164.0         audi       gas        std   \n",
       "\n",
       "  num-of-doors   body-style drive-wheels engine-location  wheel-base   ...     \\\n",
       "0          two  convertible          rwd           front        88.6   ...      \n",
       "1          two  convertible          rwd           front        88.6   ...      \n",
       "2          two    hatchback          rwd           front        94.5   ...      \n",
       "3         four        sedan          fwd           front        99.8   ...      \n",
       "4         four        sedan          4wd           front        99.4   ...      \n",
       "\n",
       "   engine-size  fuel-system  bore  stroke compression-ratio horsepower  \\\n",
       "0        130.0         mpfi  3.47    2.68               9.0      111.0   \n",
       "1        130.0         mpfi  3.47    2.68               9.0      111.0   \n",
       "2        152.0         mpfi  2.68    3.47               9.0      154.0   \n",
       "3        109.0         mpfi  3.19    3.40              10.0      102.0   \n",
       "4        136.0         mpfi  3.19    3.40               8.0      115.0   \n",
       "\n",
       "   peak-rpm city-mpg  highway-mpg    price  \n",
       "0    5000.0     21.0         27.0  13495.0  \n",
       "1    5000.0     21.0         27.0  16500.0  \n",
       "2    5000.0     19.0         26.0  16500.0  \n",
       "3    5500.0     24.0         30.0  13950.0  \n",
       "4    5500.0     18.0         22.0  17450.0  \n",
       "\n",
       "[5 rows x 26 columns]"
      ]
     },
     "execution_count": 41,
     "metadata": {},
     "output_type": "execute_result"
    }
   ],
   "source": [
    "df.head()"
   ]
  },
  {
   "cell_type": "code",
   "execution_count": 42,
   "metadata": {},
   "outputs": [
    {
     "data": {
      "text/plain": [
       "symboling            205\n",
       "normalized-losses    164\n",
       "make                 205\n",
       "fuel-type            205\n",
       "aspiration           205\n",
       "num-of-doors         203\n",
       "body-style           205\n",
       "drive-wheels         205\n",
       "engine-location      205\n",
       "wheel-base           205\n",
       "length               205\n",
       "width                205\n",
       "height               205\n",
       "curb-weight          205\n",
       "engine-type          205\n",
       "num-of-cylinders     205\n",
       "engine-size          205\n",
       "fuel-system          205\n",
       "bore                 201\n",
       "stroke               201\n",
       "compression-ratio    205\n",
       "horsepower           203\n",
       "peak-rpm             203\n",
       "city-mpg             205\n",
       "highway-mpg          205\n",
       "price                201\n",
       "dtype: int64"
      ]
     },
     "execution_count": 42,
     "metadata": {},
     "output_type": "execute_result"
    }
   ],
   "source": [
    "df.count()"
   ]
  },
  {
   "cell_type": "code",
   "execution_count": 43,
   "metadata": {},
   "outputs": [],
   "source": [
    "df = df.dropna()"
   ]
  },
  {
   "cell_type": "code",
   "execution_count": 44,
   "metadata": {},
   "outputs": [
    {
     "data": {
      "text/plain": [
       "symboling            159\n",
       "normalized-losses    159\n",
       "make                 159\n",
       "fuel-type            159\n",
       "aspiration           159\n",
       "num-of-doors         159\n",
       "body-style           159\n",
       "drive-wheels         159\n",
       "engine-location      159\n",
       "wheel-base           159\n",
       "length               159\n",
       "width                159\n",
       "height               159\n",
       "curb-weight          159\n",
       "engine-type          159\n",
       "num-of-cylinders     159\n",
       "engine-size          159\n",
       "fuel-system          159\n",
       "bore                 159\n",
       "stroke               159\n",
       "compression-ratio    159\n",
       "horsepower           159\n",
       "peak-rpm             159\n",
       "city-mpg             159\n",
       "highway-mpg          159\n",
       "price                159\n",
       "dtype: int64"
      ]
     },
     "execution_count": 44,
     "metadata": {},
     "output_type": "execute_result"
    }
   ],
   "source": [
    "df.count()"
   ]
  },
  {
   "cell_type": "code",
   "execution_count": 45,
   "metadata": {},
   "outputs": [],
   "source": [
    "TRIMMED_CSV_COLUMNS = [\n",
    "    \"make\", \"fuel-type\", \"aspiration\", \"num-of-doors\", \"body-style\",\n",
    "    \"drive-wheels\", \"curb-weight\", \"engine-type\", \"num-of-cylinders\", \"engine-size\",\n",
    "    \"fuel-system\", \"horsepower\", \"peak-rpm\", \"city-mpg\", \"highway-mpg\", \"price\"\n",
    "]"
   ]
  },
  {
   "cell_type": "code",
   "execution_count": 46,
   "metadata": {},
   "outputs": [],
   "source": [
    "df = df[TRIMMED_CSV_COLUMNS]"
   ]
  },
  {
   "cell_type": "code",
   "execution_count": 47,
   "metadata": {},
   "outputs": [
    {
     "data": {
      "text/html": [
       "<div>\n",
       "<style scoped>\n",
       "    .dataframe tbody tr th:only-of-type {\n",
       "        vertical-align: middle;\n",
       "    }\n",
       "\n",
       "    .dataframe tbody tr th {\n",
       "        vertical-align: top;\n",
       "    }\n",
       "\n",
       "    .dataframe thead th {\n",
       "        text-align: right;\n",
       "    }\n",
       "</style>\n",
       "<table border=\"1\" class=\"dataframe\">\n",
       "  <thead>\n",
       "    <tr style=\"text-align: right;\">\n",
       "      <th></th>\n",
       "      <th>make</th>\n",
       "      <th>fuel-type</th>\n",
       "      <th>aspiration</th>\n",
       "      <th>num-of-doors</th>\n",
       "      <th>body-style</th>\n",
       "      <th>drive-wheels</th>\n",
       "      <th>curb-weight</th>\n",
       "      <th>engine-type</th>\n",
       "      <th>num-of-cylinders</th>\n",
       "      <th>engine-size</th>\n",
       "      <th>fuel-system</th>\n",
       "      <th>horsepower</th>\n",
       "      <th>peak-rpm</th>\n",
       "      <th>city-mpg</th>\n",
       "      <th>highway-mpg</th>\n",
       "      <th>price</th>\n",
       "    </tr>\n",
       "  </thead>\n",
       "  <tbody>\n",
       "    <tr>\n",
       "      <th>3</th>\n",
       "      <td>audi</td>\n",
       "      <td>gas</td>\n",
       "      <td>std</td>\n",
       "      <td>four</td>\n",
       "      <td>sedan</td>\n",
       "      <td>fwd</td>\n",
       "      <td>2337.0</td>\n",
       "      <td>ohc</td>\n",
       "      <td>four</td>\n",
       "      <td>109.0</td>\n",
       "      <td>mpfi</td>\n",
       "      <td>102.0</td>\n",
       "      <td>5500.0</td>\n",
       "      <td>24.0</td>\n",
       "      <td>30.0</td>\n",
       "      <td>13950.0</td>\n",
       "    </tr>\n",
       "    <tr>\n",
       "      <th>4</th>\n",
       "      <td>audi</td>\n",
       "      <td>gas</td>\n",
       "      <td>std</td>\n",
       "      <td>four</td>\n",
       "      <td>sedan</td>\n",
       "      <td>4wd</td>\n",
       "      <td>2824.0</td>\n",
       "      <td>ohc</td>\n",
       "      <td>five</td>\n",
       "      <td>136.0</td>\n",
       "      <td>mpfi</td>\n",
       "      <td>115.0</td>\n",
       "      <td>5500.0</td>\n",
       "      <td>18.0</td>\n",
       "      <td>22.0</td>\n",
       "      <td>17450.0</td>\n",
       "    </tr>\n",
       "    <tr>\n",
       "      <th>6</th>\n",
       "      <td>audi</td>\n",
       "      <td>gas</td>\n",
       "      <td>std</td>\n",
       "      <td>four</td>\n",
       "      <td>sedan</td>\n",
       "      <td>fwd</td>\n",
       "      <td>2844.0</td>\n",
       "      <td>ohc</td>\n",
       "      <td>five</td>\n",
       "      <td>136.0</td>\n",
       "      <td>mpfi</td>\n",
       "      <td>110.0</td>\n",
       "      <td>5500.0</td>\n",
       "      <td>19.0</td>\n",
       "      <td>25.0</td>\n",
       "      <td>17710.0</td>\n",
       "    </tr>\n",
       "    <tr>\n",
       "      <th>8</th>\n",
       "      <td>audi</td>\n",
       "      <td>gas</td>\n",
       "      <td>turbo</td>\n",
       "      <td>four</td>\n",
       "      <td>sedan</td>\n",
       "      <td>fwd</td>\n",
       "      <td>3086.0</td>\n",
       "      <td>ohc</td>\n",
       "      <td>five</td>\n",
       "      <td>131.0</td>\n",
       "      <td>mpfi</td>\n",
       "      <td>140.0</td>\n",
       "      <td>5500.0</td>\n",
       "      <td>17.0</td>\n",
       "      <td>20.0</td>\n",
       "      <td>23875.0</td>\n",
       "    </tr>\n",
       "    <tr>\n",
       "      <th>10</th>\n",
       "      <td>bmw</td>\n",
       "      <td>gas</td>\n",
       "      <td>std</td>\n",
       "      <td>two</td>\n",
       "      <td>sedan</td>\n",
       "      <td>rwd</td>\n",
       "      <td>2395.0</td>\n",
       "      <td>ohc</td>\n",
       "      <td>four</td>\n",
       "      <td>108.0</td>\n",
       "      <td>mpfi</td>\n",
       "      <td>101.0</td>\n",
       "      <td>5800.0</td>\n",
       "      <td>23.0</td>\n",
       "      <td>29.0</td>\n",
       "      <td>16430.0</td>\n",
       "    </tr>\n",
       "  </tbody>\n",
       "</table>\n",
       "</div>"
      ],
      "text/plain": [
       "    make fuel-type aspiration num-of-doors body-style drive-wheels  \\\n",
       "3   audi       gas        std         four      sedan          fwd   \n",
       "4   audi       gas        std         four      sedan          4wd   \n",
       "6   audi       gas        std         four      sedan          fwd   \n",
       "8   audi       gas      turbo         four      sedan          fwd   \n",
       "10   bmw       gas        std          two      sedan          rwd   \n",
       "\n",
       "    curb-weight engine-type num-of-cylinders  engine-size fuel-system  \\\n",
       "3        2337.0         ohc             four        109.0        mpfi   \n",
       "4        2824.0         ohc             five        136.0        mpfi   \n",
       "6        2844.0         ohc             five        136.0        mpfi   \n",
       "8        3086.0         ohc             five        131.0        mpfi   \n",
       "10       2395.0         ohc             four        108.0        mpfi   \n",
       "\n",
       "    horsepower  peak-rpm  city-mpg  highway-mpg    price  \n",
       "3        102.0    5500.0      24.0         30.0  13950.0  \n",
       "4        115.0    5500.0      18.0         22.0  17450.0  \n",
       "6        110.0    5500.0      19.0         25.0  17710.0  \n",
       "8        140.0    5500.0      17.0         20.0  23875.0  \n",
       "10       101.0    5800.0      23.0         29.0  16430.0  "
      ]
     },
     "execution_count": 47,
     "metadata": {},
     "output_type": "execute_result"
    }
   ],
   "source": [
    "df.head()"
   ]
  },
  {
   "cell_type": "code",
   "execution_count": 48,
   "metadata": {},
   "outputs": [],
   "source": [
    "Y_NAME = \"price\"\n",
    "\n",
    "def get_training_test_prediction_data(df):\n",
    "    \n",
    "    # Generate a unique shuffle each time\n",
    "    np.random.seed(None)\n",
    "\n",
    "    # Split the data into train/test subsets.\n",
    "    x_train = df.sample(frac=0.8, random_state=None)\n",
    "    \n",
    "    # Remove the training data from the original dataset\n",
    "    x_test = df.drop(x_train.index)\n",
    "    \n",
    "    # Choose a small sample from the test data for prediction\n",
    "    x_predict = x_test.sample(frac=0.2, random_state=None)\n",
    "    \n",
    "    # Extract the label from the features DataFrame.\n",
    "    y_train = x_train.pop(Y_NAME)\n",
    "    y_test = x_test.pop(Y_NAME)\n",
    "    y_predict = x_predict.pop(Y_NAME)\n",
    "    \n",
    "    return (x_train, y_train), (x_test, y_test), (x_predict, y_predict) "
   ]
  },
  {
   "cell_type": "code",
   "execution_count": 49,
   "metadata": {},
   "outputs": [],
   "source": [
    "(x_train, y_train), (x_test, y_test), (x_predict, y_predict) = \\\n",
    "    get_training_test_prediction_data(df)"
   ]
  },
  {
   "cell_type": "code",
   "execution_count": 50,
   "metadata": {},
   "outputs": [
    {
     "data": {
      "text/html": [
       "<div>\n",
       "<style scoped>\n",
       "    .dataframe tbody tr th:only-of-type {\n",
       "        vertical-align: middle;\n",
       "    }\n",
       "\n",
       "    .dataframe tbody tr th {\n",
       "        vertical-align: top;\n",
       "    }\n",
       "\n",
       "    .dataframe thead th {\n",
       "        text-align: right;\n",
       "    }\n",
       "</style>\n",
       "<table border=\"1\" class=\"dataframe\">\n",
       "  <thead>\n",
       "    <tr style=\"text-align: right;\">\n",
       "      <th></th>\n",
       "      <th>make</th>\n",
       "      <th>fuel-type</th>\n",
       "      <th>aspiration</th>\n",
       "      <th>num-of-doors</th>\n",
       "      <th>body-style</th>\n",
       "      <th>drive-wheels</th>\n",
       "      <th>curb-weight</th>\n",
       "      <th>engine-type</th>\n",
       "      <th>num-of-cylinders</th>\n",
       "      <th>engine-size</th>\n",
       "      <th>fuel-system</th>\n",
       "      <th>horsepower</th>\n",
       "      <th>peak-rpm</th>\n",
       "      <th>city-mpg</th>\n",
       "      <th>highway-mpg</th>\n",
       "    </tr>\n",
       "  </thead>\n",
       "  <tbody>\n",
       "    <tr>\n",
       "      <th>173</th>\n",
       "      <td>toyota</td>\n",
       "      <td>gas</td>\n",
       "      <td>std</td>\n",
       "      <td>four</td>\n",
       "      <td>sedan</td>\n",
       "      <td>fwd</td>\n",
       "      <td>2326.0</td>\n",
       "      <td>ohc</td>\n",
       "      <td>four</td>\n",
       "      <td>122.0</td>\n",
       "      <td>mpfi</td>\n",
       "      <td>92.0</td>\n",
       "      <td>4200.0</td>\n",
       "      <td>29.0</td>\n",
       "      <td>34.0</td>\n",
       "    </tr>\n",
       "    <tr>\n",
       "      <th>176</th>\n",
       "      <td>toyota</td>\n",
       "      <td>gas</td>\n",
       "      <td>std</td>\n",
       "      <td>four</td>\n",
       "      <td>sedan</td>\n",
       "      <td>fwd</td>\n",
       "      <td>2414.0</td>\n",
       "      <td>ohc</td>\n",
       "      <td>four</td>\n",
       "      <td>122.0</td>\n",
       "      <td>mpfi</td>\n",
       "      <td>92.0</td>\n",
       "      <td>4200.0</td>\n",
       "      <td>27.0</td>\n",
       "      <td>32.0</td>\n",
       "    </tr>\n",
       "    <tr>\n",
       "      <th>28</th>\n",
       "      <td>dodge</td>\n",
       "      <td>gas</td>\n",
       "      <td>std</td>\n",
       "      <td>four</td>\n",
       "      <td>wagon</td>\n",
       "      <td>fwd</td>\n",
       "      <td>2535.0</td>\n",
       "      <td>ohc</td>\n",
       "      <td>four</td>\n",
       "      <td>122.0</td>\n",
       "      <td>2bbl</td>\n",
       "      <td>88.0</td>\n",
       "      <td>5000.0</td>\n",
       "      <td>24.0</td>\n",
       "      <td>30.0</td>\n",
       "    </tr>\n",
       "    <tr>\n",
       "      <th>18</th>\n",
       "      <td>chevrolet</td>\n",
       "      <td>gas</td>\n",
       "      <td>std</td>\n",
       "      <td>two</td>\n",
       "      <td>hatchback</td>\n",
       "      <td>fwd</td>\n",
       "      <td>1488.0</td>\n",
       "      <td>l</td>\n",
       "      <td>three</td>\n",
       "      <td>61.0</td>\n",
       "      <td>2bbl</td>\n",
       "      <td>48.0</td>\n",
       "      <td>5100.0</td>\n",
       "      <td>47.0</td>\n",
       "      <td>53.0</td>\n",
       "    </tr>\n",
       "    <tr>\n",
       "      <th>108</th>\n",
       "      <td>peugot</td>\n",
       "      <td>diesel</td>\n",
       "      <td>turbo</td>\n",
       "      <td>four</td>\n",
       "      <td>sedan</td>\n",
       "      <td>rwd</td>\n",
       "      <td>3197.0</td>\n",
       "      <td>l</td>\n",
       "      <td>four</td>\n",
       "      <td>152.0</td>\n",
       "      <td>idi</td>\n",
       "      <td>95.0</td>\n",
       "      <td>4150.0</td>\n",
       "      <td>28.0</td>\n",
       "      <td>33.0</td>\n",
       "    </tr>\n",
       "  </tbody>\n",
       "</table>\n",
       "</div>"
      ],
      "text/plain": [
       "          make fuel-type aspiration num-of-doors body-style drive-wheels  \\\n",
       "173     toyota       gas        std         four      sedan          fwd   \n",
       "176     toyota       gas        std         four      sedan          fwd   \n",
       "28       dodge       gas        std         four      wagon          fwd   \n",
       "18   chevrolet       gas        std          two  hatchback          fwd   \n",
       "108     peugot    diesel      turbo         four      sedan          rwd   \n",
       "\n",
       "     curb-weight engine-type num-of-cylinders  engine-size fuel-system  \\\n",
       "173       2326.0         ohc             four        122.0        mpfi   \n",
       "176       2414.0         ohc             four        122.0        mpfi   \n",
       "28        2535.0         ohc             four        122.0        2bbl   \n",
       "18        1488.0           l            three         61.0        2bbl   \n",
       "108       3197.0           l             four        152.0         idi   \n",
       "\n",
       "     horsepower  peak-rpm  city-mpg  highway-mpg  \n",
       "173        92.0    4200.0      29.0         34.0  \n",
       "176        92.0    4200.0      27.0         32.0  \n",
       "28         88.0    5000.0      24.0         30.0  \n",
       "18         48.0    5100.0      47.0         53.0  \n",
       "108        95.0    4150.0      28.0         33.0  "
      ]
     },
     "execution_count": 50,
     "metadata": {},
     "output_type": "execute_result"
    }
   ],
   "source": [
    "x_train.head()"
   ]
  },
  {
   "cell_type": "code",
   "execution_count": 51,
   "metadata": {},
   "outputs": [
    {
     "data": {
      "text/plain": [
       "173     8948.0\n",
       "176    10898.0\n",
       "28      8921.0\n",
       "18      5151.0\n",
       "108    13200.0\n",
       "Name: price, dtype: float64"
      ]
     },
     "execution_count": 51,
     "metadata": {},
     "output_type": "execute_result"
    }
   ],
   "source": [
    "y_train.head()"
   ]
  },
  {
   "cell_type": "code",
   "execution_count": 52,
   "metadata": {},
   "outputs": [],
   "source": [
    "PRICE_SCALING_FACTOR = 10000\n",
    "\n",
    "y_train /= PRICE_SCALING_FACTOR\n",
    "y_test /= PRICE_SCALING_FACTOR"
   ]
  },
  {
   "cell_type": "code",
   "execution_count": 53,
   "metadata": {},
   "outputs": [
    {
     "data": {
      "text/plain": [
       "173    0.8948\n",
       "176    1.0898\n",
       "28     0.8921\n",
       "18     0.5151\n",
       "108    1.3200\n",
       "Name: price, dtype: float64"
      ]
     },
     "execution_count": 53,
     "metadata": {},
     "output_type": "execute_result"
    }
   ],
   "source": [
    "y_train.head()"
   ]
  },
  {
   "cell_type": "code",
   "execution_count": 54,
   "metadata": {},
   "outputs": [
    {
     "data": {
      "text/plain": [
       "array(['audi', 'bmw', 'chevrolet', 'dodge', 'honda', 'jaguar', 'mazda',\n",
       "       'mercedes-benz', 'mitsubishi', 'nissan', 'peugot', 'plymouth',\n",
       "       'porsche', 'saab', 'subaru', 'toyota', 'volkswagen', 'volvo'],\n",
       "      dtype=object)"
      ]
     },
     "execution_count": 54,
     "metadata": {},
     "output_type": "execute_result"
    }
   ],
   "source": [
    "df['make'].unique()"
   ]
  },
  {
   "cell_type": "code",
   "execution_count": 55,
   "metadata": {},
   "outputs": [
    {
     "data": {
      "text/plain": [
       "array(['gas', 'diesel'], dtype=object)"
      ]
     },
     "execution_count": 55,
     "metadata": {},
     "output_type": "execute_result"
    }
   ],
   "source": [
    "df['fuel-type'].unique()"
   ]
  },
  {
   "cell_type": "code",
   "execution_count": 56,
   "metadata": {},
   "outputs": [
    {
     "data": {
      "text/plain": [
       "array(['std', 'turbo'], dtype=object)"
      ]
     },
     "execution_count": 56,
     "metadata": {},
     "output_type": "execute_result"
    }
   ],
   "source": [
    "df['aspiration'].unique()"
   ]
  },
  {
   "cell_type": "code",
   "execution_count": 57,
   "metadata": {},
   "outputs": [
    {
     "data": {
      "text/plain": [
       "array(['four', 'two'], dtype=object)"
      ]
     },
     "execution_count": 57,
     "metadata": {},
     "output_type": "execute_result"
    }
   ],
   "source": [
    "df['num-of-doors'].unique()"
   ]
  },
  {
   "cell_type": "code",
   "execution_count": 58,
   "metadata": {},
   "outputs": [
    {
     "data": {
      "text/plain": [
       "array(['sedan', 'hatchback', 'wagon', 'hardtop', 'convertible'],\n",
       "      dtype=object)"
      ]
     },
     "execution_count": 58,
     "metadata": {},
     "output_type": "execute_result"
    }
   ],
   "source": [
    "df['body-style'].unique()"
   ]
  },
  {
   "cell_type": "code",
   "execution_count": 59,
   "metadata": {},
   "outputs": [
    {
     "data": {
      "text/plain": [
       "array(['fwd', '4wd', 'rwd'], dtype=object)"
      ]
     },
     "execution_count": 59,
     "metadata": {},
     "output_type": "execute_result"
    }
   ],
   "source": [
    "df['drive-wheels'].unique()"
   ]
  },
  {
   "cell_type": "code",
   "execution_count": 60,
   "metadata": {},
   "outputs": [
    {
     "data": {
      "text/plain": [
       "array(['ohc', 'l', 'dohc', 'ohcv', 'ohcf'], dtype=object)"
      ]
     },
     "execution_count": 60,
     "metadata": {},
     "output_type": "execute_result"
    }
   ],
   "source": [
    "df['engine-type'].unique()"
   ]
  },
  {
   "cell_type": "code",
   "execution_count": 61,
   "metadata": {},
   "outputs": [
    {
     "data": {
      "text/plain": [
       "array(['four', 'five', 'six', 'three', 'eight'], dtype=object)"
      ]
     },
     "execution_count": 61,
     "metadata": {},
     "output_type": "execute_result"
    }
   ],
   "source": [
    "df['num-of-cylinders'].unique()"
   ]
  },
  {
   "cell_type": "code",
   "execution_count": 62,
   "metadata": {},
   "outputs": [
    {
     "data": {
      "text/plain": [
       "array(['mpfi', '2bbl', 'mfi', '1bbl', 'idi', 'spdi'], dtype=object)"
      ]
     },
     "execution_count": 62,
     "metadata": {},
     "output_type": "execute_result"
    }
   ],
   "source": [
    "df['fuel-system'].unique()"
   ]
  },
  {
   "cell_type": "code",
   "execution_count": 63,
   "metadata": {},
   "outputs": [],
   "source": [
    "curb_weight = tf.feature_column.numeric_column(\"curb-weight\")\n",
    "\n",
    "engine_size = tf.feature_column.numeric_column(\"engine-size\")\n",
    "\n",
    "horsepower = tf.feature_column.numeric_column(\"horsepower\")\n",
    "\n",
    "peak_rpm = tf.feature_column.numeric_column(\"peak-rpm\")\n",
    "\n",
    "city_mpg = tf.feature_column.numeric_column(\"city-mpg\")\n",
    "\n",
    "highway_mpg = tf.feature_column.numeric_column(\"highway-mpg\")"
   ]
  },
  {
   "cell_type": "code",
   "execution_count": 64,
   "metadata": {},
   "outputs": [],
   "source": [
    "body_style = tf.feature_column.categorical_column_with_vocabulary_list(\n",
    "      key=\"body-style\", vocabulary_list=df['body-style'].unique())\n",
    "\n",
    "fuel_type = tf.feature_column.categorical_column_with_vocabulary_list(\n",
    "      key=\"fuel-type\", vocabulary_list=df['fuel-type'].unique())\n",
    "\n",
    "aspiration = tf.feature_column.categorical_column_with_vocabulary_list(\n",
    "      key=\"aspiration\", vocabulary_list=df['aspiration'].unique())\n",
    "\n",
    "num_of_doors = tf.feature_column.categorical_column_with_vocabulary_list(\n",
    "      key=\"num-of-doors\", vocabulary_list=df['num-of-doors'].unique())\n",
    "\n",
    "drive_wheels = tf.feature_column.categorical_column_with_vocabulary_list(\n",
    "      key=\"drive-wheels\", vocabulary_list=df['drive-wheels'].unique())\n",
    "\n",
    "engine_type = tf.feature_column.categorical_column_with_vocabulary_list(\n",
    "      key=\"engine-type\", vocabulary_list=df['engine-type'].unique())\n",
    "\n",
    "num_of_cylinders = tf.feature_column.categorical_column_with_vocabulary_list(\n",
    "      key=\"num-of-cylinders\", vocabulary_list=df['num-of-cylinders'].unique())\n",
    "\n",
    "fuel_system = tf.feature_column.categorical_column_with_vocabulary_list(\n",
    "      key=\"fuel-system\", vocabulary_list=df['fuel-system'].unique())"
   ]
  },
  {
   "cell_type": "code",
   "execution_count": 65,
   "metadata": {},
   "outputs": [],
   "source": [
    "make = tf.feature_column.categorical_column_with_hash_bucket(\n",
    "      key=\"make\", hash_bucket_size=50)"
   ]
  },
  {
   "cell_type": "code",
   "execution_count": 66,
   "metadata": {},
   "outputs": [],
   "source": [
    "feature_columns = [\n",
    "    curb_weight, engine_size, horsepower, peak_rpm, city_mpg, highway_mpg,\n",
    "\n",
    "    tf.feature_column.indicator_column(body_style),\n",
    "\n",
    "    tf.feature_column.embedding_column(fuel_type, dimension=3),\n",
    "\n",
    "    tf.feature_column.embedding_column(aspiration, dimension=3),\n",
    "    tf.feature_column.embedding_column(num_of_doors, dimension=3),\n",
    "    tf.feature_column.embedding_column(drive_wheels, dimension=3),\n",
    "    tf.feature_column.embedding_column(engine_type, dimension=3),\n",
    "    tf.feature_column.embedding_column(num_of_cylinders, dimension=3),\n",
    "    tf.feature_column.embedding_column(fuel_system, dimension=3),\n",
    "\n",
    "    tf.feature_column.embedding_column(make, dimension=4)    \n",
    "]"
   ]
  },
  {
   "cell_type": "code",
   "execution_count": 67,
   "metadata": {},
   "outputs": [],
   "source": [
    "def input_fn(x_data, y_data, num_epochs, shuffle):\n",
    "\n",
    "    return tf.estimator.inputs.pandas_input_fn(\n",
    "          x=x_data,\n",
    "          y=y_data,\n",
    "          batch_size=64,\n",
    "          num_epochs=num_epochs,\n",
    "          shuffle=shuffle)            "
   ]
  },
  {
   "cell_type": "code",
   "execution_count": 68,
   "metadata": {},
   "outputs": [
    {
     "name": "stdout",
     "output_type": "stream",
     "text": [
      "INFO:tensorflow:Using default config.\n",
      "WARNING:tensorflow:Using temporary folder as model directory: /tmp/tmpefBpc7\n",
      "INFO:tensorflow:Using config: {'_save_checkpoints_secs': 600, '_session_config': None, '_keep_checkpoint_max': 5, '_task_type': 'worker', '_train_distribute': None, '_is_chief': True, '_cluster_spec': <tensorflow.python.training.server_lib.ClusterSpec object at 0x7fdafe9aa490>, '_evaluation_master': '', '_save_checkpoints_steps': None, '_keep_checkpoint_every_n_hours': 10000, '_service': None, '_num_ps_replicas': 0, '_tf_random_seed': None, '_master': '', '_num_worker_replicas': 1, '_task_id': 0, '_log_step_count_steps': 100, '_model_dir': '/tmp/tmpefBpc7', '_global_id_in_cluster': 0, '_save_summary_steps': 100}\n"
     ]
    }
   ],
   "source": [
    "model = tf.estimator.DNNRegressor(\n",
    "      hidden_units=[24, 16, 24], feature_columns=feature_columns)"
   ]
  },
  {
   "cell_type": "code",
   "execution_count": 69,
   "metadata": {},
   "outputs": [
    {
     "name": "stdout",
     "output_type": "stream",
     "text": [
      "INFO:tensorflow:Calling model_fn.\n",
      "INFO:tensorflow:Done calling model_fn.\n",
      "INFO:tensorflow:Create CheckpointSaverHook.\n",
      "INFO:tensorflow:Graph was finalized.\n",
      "INFO:tensorflow:Running local_init_op.\n",
      "INFO:tensorflow:Done running local_init_op.\n",
      "INFO:tensorflow:Saving checkpoints for 1 into /tmp/tmpefBpc7/model.ckpt.\n",
      "INFO:tensorflow:loss = 7023431.5, step = 1\n",
      "INFO:tensorflow:global_step/sec: 89.3645\n",
      "INFO:tensorflow:loss = 162.15143, step = 101 (1.126 sec)\n",
      "INFO:tensorflow:global_step/sec: 148.114\n",
      "INFO:tensorflow:loss = 195.44962, step = 201 (0.677 sec)\n",
      "INFO:tensorflow:global_step/sec: 129.519\n",
      "INFO:tensorflow:loss = 174.20764, step = 301 (0.772 sec)\n",
      "INFO:tensorflow:global_step/sec: 140.667\n",
      "INFO:tensorflow:loss = 136.19968, step = 401 (0.711 sec)\n",
      "INFO:tensorflow:global_step/sec: 149.467\n",
      "INFO:tensorflow:loss = 167.02893, step = 501 (0.666 sec)\n",
      "INFO:tensorflow:global_step/sec: 157.818\n",
      "INFO:tensorflow:loss = 180.99887, step = 601 (0.636 sec)\n",
      "INFO:tensorflow:global_step/sec: 159.531\n",
      "INFO:tensorflow:loss = 152.54788, step = 701 (0.625 sec)\n",
      "INFO:tensorflow:global_step/sec: 150.803\n",
      "INFO:tensorflow:loss = 173.26831, step = 801 (0.665 sec)\n",
      "INFO:tensorflow:global_step/sec: 156.407\n",
      "INFO:tensorflow:loss = 137.37823, step = 901 (0.639 sec)\n",
      "INFO:tensorflow:global_step/sec: 164.263\n",
      "INFO:tensorflow:loss = 139.91331, step = 1001 (0.607 sec)\n",
      "INFO:tensorflow:global_step/sec: 164.772\n",
      "INFO:tensorflow:loss = 142.84613, step = 1101 (0.609 sec)\n",
      "INFO:tensorflow:global_step/sec: 152.942\n",
      "INFO:tensorflow:loss = 73.651276, step = 1201 (0.651 sec)\n",
      "INFO:tensorflow:global_step/sec: 153.304\n",
      "INFO:tensorflow:loss = 96.58127, step = 1301 (0.655 sec)\n",
      "INFO:tensorflow:global_step/sec: 159.314\n",
      "INFO:tensorflow:loss = 109.681274, step = 1401 (0.625 sec)\n",
      "INFO:tensorflow:global_step/sec: 151.146\n",
      "INFO:tensorflow:loss = 142.92303, step = 1501 (0.664 sec)\n",
      "INFO:tensorflow:global_step/sec: 149.27\n",
      "INFO:tensorflow:loss = 110.199295, step = 1601 (0.670 sec)\n",
      "INFO:tensorflow:global_step/sec: 149.619\n",
      "INFO:tensorflow:loss = 156.96472, step = 1701 (0.668 sec)\n",
      "INFO:tensorflow:global_step/sec: 147.694\n",
      "INFO:tensorflow:loss = 115.896225, step = 1801 (0.677 sec)\n",
      "INFO:tensorflow:global_step/sec: 150.579\n",
      "INFO:tensorflow:loss = 87.3858, step = 1901 (0.662 sec)\n",
      "INFO:tensorflow:global_step/sec: 152.758\n",
      "INFO:tensorflow:loss = 76.14322, step = 2001 (0.658 sec)\n",
      "INFO:tensorflow:global_step/sec: 151.296\n",
      "INFO:tensorflow:loss = 101.43825, step = 2101 (0.657 sec)\n",
      "INFO:tensorflow:global_step/sec: 150.165\n",
      "INFO:tensorflow:loss = 82.52821, step = 2201 (0.669 sec)\n",
      "INFO:tensorflow:global_step/sec: 148.215\n",
      "INFO:tensorflow:loss = 98.609055, step = 2301 (0.674 sec)\n",
      "INFO:tensorflow:global_step/sec: 150.758\n",
      "INFO:tensorflow:loss = 110.857864, step = 2401 (0.661 sec)\n",
      "INFO:tensorflow:global_step/sec: 153.59\n",
      "INFO:tensorflow:loss = 69.20816, step = 2501 (0.656 sec)\n",
      "INFO:tensorflow:global_step/sec: 153.701\n",
      "INFO:tensorflow:loss = 66.4475, step = 2601 (0.647 sec)\n",
      "INFO:tensorflow:global_step/sec: 155.078\n",
      "INFO:tensorflow:loss = 72.10378, step = 2701 (0.643 sec)\n",
      "INFO:tensorflow:global_step/sec: 153.848\n",
      "INFO:tensorflow:loss = 54.991386, step = 2801 (0.653 sec)\n",
      "INFO:tensorflow:global_step/sec: 150.373\n",
      "INFO:tensorflow:loss = 60.04064, step = 2901 (0.664 sec)\n",
      "INFO:tensorflow:global_step/sec: 162.636\n",
      "INFO:tensorflow:loss = 61.979023, step = 3001 (0.613 sec)\n",
      "INFO:tensorflow:global_step/sec: 154.958\n",
      "INFO:tensorflow:loss = 46.778175, step = 3101 (0.647 sec)\n",
      "INFO:tensorflow:global_step/sec: 163.874\n",
      "INFO:tensorflow:loss = 37.608826, step = 3201 (0.609 sec)\n",
      "INFO:tensorflow:global_step/sec: 158.445\n",
      "INFO:tensorflow:loss = 53.580185, step = 3301 (0.633 sec)\n",
      "INFO:tensorflow:global_step/sec: 181.536\n",
      "INFO:tensorflow:loss = 50.339016, step = 3401 (0.548 sec)\n",
      "INFO:tensorflow:global_step/sec: 177.566\n",
      "INFO:tensorflow:loss = 54.971367, step = 3501 (0.568 sec)\n",
      "INFO:tensorflow:global_step/sec: 172.832\n",
      "INFO:tensorflow:loss = 42.29046, step = 3601 (0.576 sec)\n",
      "INFO:tensorflow:global_step/sec: 160.199\n",
      "INFO:tensorflow:loss = 35.7304, step = 3701 (0.622 sec)\n",
      "INFO:tensorflow:global_step/sec: 149.026\n",
      "INFO:tensorflow:loss = 50.84765, step = 3801 (0.673 sec)\n",
      "INFO:tensorflow:global_step/sec: 154.749\n",
      "INFO:tensorflow:loss = 54.415344, step = 3901 (0.643 sec)\n",
      "INFO:tensorflow:global_step/sec: 159.008\n",
      "INFO:tensorflow:loss = 39.310246, step = 4001 (0.632 sec)\n",
      "INFO:tensorflow:global_step/sec: 161.88\n",
      "INFO:tensorflow:loss = 44.18943, step = 4101 (0.616 sec)\n",
      "INFO:tensorflow:global_step/sec: 167.229\n",
      "INFO:tensorflow:loss = 47.91289, step = 4201 (0.600 sec)\n",
      "INFO:tensorflow:global_step/sec: 162.074\n",
      "INFO:tensorflow:loss = 42.218834, step = 4301 (0.615 sec)\n",
      "INFO:tensorflow:global_step/sec: 160.566\n",
      "INFO:tensorflow:loss = 37.34636, step = 4401 (0.625 sec)\n",
      "INFO:tensorflow:global_step/sec: 162.887\n",
      "INFO:tensorflow:loss = 29.539112, step = 4501 (0.613 sec)\n",
      "INFO:tensorflow:global_step/sec: 176.677\n",
      "INFO:tensorflow:loss = 47.997425, step = 4601 (0.567 sec)\n",
      "INFO:tensorflow:global_step/sec: 165.829\n",
      "INFO:tensorflow:loss = 36.143806, step = 4701 (0.603 sec)\n",
      "INFO:tensorflow:global_step/sec: 176.339\n",
      "INFO:tensorflow:loss = 40.552353, step = 4801 (0.565 sec)\n",
      "INFO:tensorflow:global_step/sec: 152.499\n",
      "INFO:tensorflow:loss = 50.760464, step = 4901 (0.656 sec)\n",
      "INFO:tensorflow:global_step/sec: 163.21\n",
      "INFO:tensorflow:loss = 31.11683, step = 5001 (0.615 sec)\n",
      "INFO:tensorflow:global_step/sec: 178.985\n",
      "INFO:tensorflow:loss = 31.797932, step = 5101 (0.556 sec)\n",
      "INFO:tensorflow:global_step/sec: 161.969\n",
      "INFO:tensorflow:loss = 30.490316, step = 5201 (0.619 sec)\n",
      "INFO:tensorflow:global_step/sec: 161.487\n",
      "INFO:tensorflow:loss = 40.81041, step = 5301 (0.617 sec)\n",
      "INFO:tensorflow:global_step/sec: 158.443\n",
      "INFO:tensorflow:loss = 29.147, step = 5401 (0.636 sec)\n",
      "INFO:tensorflow:global_step/sec: 160.693\n",
      "INFO:tensorflow:loss = 27.460846, step = 5501 (0.618 sec)\n",
      "INFO:tensorflow:global_step/sec: 171.561\n",
      "INFO:tensorflow:loss = 20.715202, step = 5601 (0.585 sec)\n",
      "INFO:tensorflow:global_step/sec: 159.17\n",
      "INFO:tensorflow:loss = 24.827557, step = 5701 (0.629 sec)\n",
      "INFO:tensorflow:global_step/sec: 161.766\n",
      "INFO:tensorflow:loss = 22.837519, step = 5801 (0.617 sec)\n",
      "INFO:tensorflow:global_step/sec: 161.793\n",
      "INFO:tensorflow:loss = 21.067467, step = 5901 (0.616 sec)\n",
      "INFO:tensorflow:global_step/sec: 162.188\n",
      "INFO:tensorflow:loss = 27.008423, step = 6001 (0.620 sec)\n",
      "INFO:tensorflow:global_step/sec: 163.005\n",
      "INFO:tensorflow:loss = 23.825743, step = 6101 (0.611 sec)\n",
      "INFO:tensorflow:global_step/sec: 159.382\n",
      "INFO:tensorflow:loss = 25.911306, step = 6201 (0.629 sec)\n",
      "INFO:tensorflow:global_step/sec: 162.765\n",
      "INFO:tensorflow:loss = 31.179882, step = 6301 (0.616 sec)\n",
      "INFO:tensorflow:global_step/sec: 166.297\n",
      "INFO:tensorflow:loss = 21.718582, step = 6401 (0.603 sec)\n",
      "INFO:tensorflow:global_step/sec: 156.025\n",
      "INFO:tensorflow:loss = 25.688631, step = 6501 (0.641 sec)\n",
      "INFO:tensorflow:global_step/sec: 148.759\n",
      "INFO:tensorflow:loss = 30.27459, step = 6601 (0.671 sec)\n",
      "INFO:tensorflow:global_step/sec: 155.726\n",
      "INFO:tensorflow:loss = 33.54591, step = 6701 (0.640 sec)\n",
      "INFO:tensorflow:global_step/sec: 156.669\n",
      "INFO:tensorflow:loss = 25.869553, step = 6801 (0.642 sec)\n",
      "INFO:tensorflow:global_step/sec: 164.39\n",
      "INFO:tensorflow:loss = 25.160643, step = 6901 (0.603 sec)\n",
      "INFO:tensorflow:global_step/sec: 165.709\n",
      "INFO:tensorflow:loss = 24.384079, step = 7001 (0.605 sec)\n",
      "INFO:tensorflow:global_step/sec: 160.379\n",
      "INFO:tensorflow:loss = 28.159988, step = 7101 (0.624 sec)\n",
      "INFO:tensorflow:global_step/sec: 161.767\n",
      "INFO:tensorflow:loss = 17.221987, step = 7201 (0.617 sec)\n",
      "INFO:tensorflow:global_step/sec: 166.055\n",
      "INFO:tensorflow:loss = 21.944696, step = 7301 (0.600 sec)\n",
      "INFO:tensorflow:global_step/sec: 164.883\n",
      "INFO:tensorflow:loss = 19.73737, step = 7401 (0.609 sec)\n",
      "INFO:tensorflow:global_step/sec: 160.941\n",
      "INFO:tensorflow:loss = 21.696072, step = 7501 (0.619 sec)\n",
      "INFO:tensorflow:global_step/sec: 165.041\n",
      "INFO:tensorflow:loss = 21.4173, step = 7601 (0.608 sec)\n",
      "INFO:tensorflow:global_step/sec: 158.281\n",
      "INFO:tensorflow:loss = 18.122723, step = 7701 (0.630 sec)\n",
      "INFO:tensorflow:global_step/sec: 171.859\n",
      "INFO:tensorflow:loss = 19.1531, step = 7801 (0.584 sec)\n",
      "INFO:tensorflow:global_step/sec: 175.559\n",
      "INFO:tensorflow:loss = 26.4646, step = 7901 (0.568 sec)\n",
      "INFO:tensorflow:global_step/sec: 173.925\n",
      "INFO:tensorflow:loss = 18.834673, step = 8001 (0.577 sec)\n"
     ]
    },
    {
     "name": "stdout",
     "output_type": "stream",
     "text": [
      "INFO:tensorflow:global_step/sec: 169.223\n",
      "INFO:tensorflow:loss = 17.091925, step = 8101 (0.592 sec)\n",
      "INFO:tensorflow:global_step/sec: 164.126\n",
      "INFO:tensorflow:loss = 22.557049, step = 8201 (0.610 sec)\n",
      "INFO:tensorflow:global_step/sec: 158.255\n",
      "INFO:tensorflow:loss = 14.825172, step = 8301 (0.629 sec)\n",
      "INFO:tensorflow:global_step/sec: 159.836\n",
      "INFO:tensorflow:loss = 18.476715, step = 8401 (0.627 sec)\n",
      "INFO:tensorflow:global_step/sec: 154.646\n",
      "INFO:tensorflow:loss = 17.499966, step = 8501 (0.645 sec)\n",
      "INFO:tensorflow:global_step/sec: 159.02\n",
      "INFO:tensorflow:loss = 13.51836, step = 8601 (0.631 sec)\n",
      "INFO:tensorflow:global_step/sec: 167.485\n",
      "INFO:tensorflow:loss = 12.827346, step = 8701 (0.598 sec)\n",
      "INFO:tensorflow:global_step/sec: 156.609\n",
      "INFO:tensorflow:loss = 21.148472, step = 8801 (0.638 sec)\n",
      "INFO:tensorflow:global_step/sec: 163.607\n",
      "INFO:tensorflow:loss = 16.270123, step = 8901 (0.609 sec)\n",
      "INFO:tensorflow:global_step/sec: 164.691\n",
      "INFO:tensorflow:loss = 21.091248, step = 9001 (0.607 sec)\n",
      "INFO:tensorflow:global_step/sec: 167.969\n",
      "INFO:tensorflow:loss = 19.59356, step = 9101 (0.596 sec)\n",
      "INFO:tensorflow:global_step/sec: 168.578\n",
      "INFO:tensorflow:loss = 21.65747, step = 9201 (0.591 sec)\n",
      "INFO:tensorflow:global_step/sec: 163.118\n",
      "INFO:tensorflow:loss = 13.059893, step = 9301 (0.616 sec)\n",
      "INFO:tensorflow:global_step/sec: 158.757\n",
      "INFO:tensorflow:loss = 13.056925, step = 9401 (0.630 sec)\n",
      "INFO:tensorflow:global_step/sec: 165.727\n",
      "INFO:tensorflow:loss = 22.22463, step = 9501 (0.600 sec)\n",
      "INFO:tensorflow:global_step/sec: 179.301\n",
      "INFO:tensorflow:loss = 25.585445, step = 9601 (0.558 sec)\n",
      "INFO:tensorflow:global_step/sec: 179.696\n",
      "INFO:tensorflow:loss = 12.967064, step = 9701 (0.558 sec)\n",
      "INFO:tensorflow:global_step/sec: 171.334\n",
      "INFO:tensorflow:loss = 14.744053, step = 9801 (0.582 sec)\n",
      "INFO:tensorflow:global_step/sec: 163.944\n",
      "INFO:tensorflow:loss = 8.589924, step = 9901 (0.612 sec)\n",
      "INFO:tensorflow:global_step/sec: 164.722\n",
      "INFO:tensorflow:loss = 13.343092, step = 10001 (0.605 sec)\n",
      "INFO:tensorflow:global_step/sec: 160.051\n",
      "INFO:tensorflow:loss = 22.86862, step = 10101 (0.632 sec)\n",
      "INFO:tensorflow:global_step/sec: 166.053\n",
      "INFO:tensorflow:loss = 18.29013, step = 10201 (0.598 sec)\n",
      "INFO:tensorflow:global_step/sec: 168.409\n",
      "INFO:tensorflow:loss = 18.086363, step = 10301 (0.592 sec)\n",
      "INFO:tensorflow:global_step/sec: 154.848\n",
      "INFO:tensorflow:loss = 10.954205, step = 10401 (0.644 sec)\n",
      "INFO:tensorflow:global_step/sec: 146.707\n",
      "INFO:tensorflow:loss = 16.284029, step = 10501 (0.683 sec)\n",
      "INFO:tensorflow:global_step/sec: 154.691\n",
      "INFO:tensorflow:loss = 15.137573, step = 10601 (0.646 sec)\n",
      "INFO:tensorflow:global_step/sec: 145.736\n",
      "INFO:tensorflow:loss = 10.674357, step = 10701 (0.686 sec)\n",
      "INFO:tensorflow:global_step/sec: 150.311\n",
      "INFO:tensorflow:loss = 15.304779, step = 10801 (0.666 sec)\n",
      "INFO:tensorflow:global_step/sec: 171.624\n",
      "INFO:tensorflow:loss = 10.5918045, step = 10901 (0.581 sec)\n",
      "INFO:tensorflow:global_step/sec: 161.177\n",
      "INFO:tensorflow:loss = 14.336735, step = 11001 (0.623 sec)\n",
      "INFO:tensorflow:global_step/sec: 148.662\n",
      "INFO:tensorflow:loss = 14.897768, step = 11101 (0.670 sec)\n",
      "INFO:tensorflow:global_step/sec: 159.136\n",
      "INFO:tensorflow:loss = 16.513174, step = 11201 (0.630 sec)\n",
      "INFO:tensorflow:global_step/sec: 164.815\n",
      "INFO:tensorflow:loss = 16.238205, step = 11301 (0.606 sec)\n",
      "INFO:tensorflow:global_step/sec: 163.34\n",
      "INFO:tensorflow:loss = 7.865794, step = 11401 (0.613 sec)\n",
      "INFO:tensorflow:global_step/sec: 167.582\n",
      "INFO:tensorflow:loss = 10.785524, step = 11501 (0.597 sec)\n",
      "INFO:tensorflow:global_step/sec: 160.913\n",
      "INFO:tensorflow:loss = 12.8634615, step = 11601 (0.624 sec)\n",
      "INFO:tensorflow:global_step/sec: 147.316\n",
      "INFO:tensorflow:loss = 18.464039, step = 11701 (0.678 sec)\n",
      "INFO:tensorflow:global_step/sec: 152.429\n",
      "INFO:tensorflow:loss = 16.634537, step = 11801 (0.654 sec)\n",
      "INFO:tensorflow:global_step/sec: 160.461\n",
      "INFO:tensorflow:loss = 6.3731446, step = 11901 (0.621 sec)\n",
      "INFO:tensorflow:global_step/sec: 168.803\n",
      "INFO:tensorflow:loss = 15.524736, step = 12001 (0.595 sec)\n",
      "INFO:tensorflow:global_step/sec: 167.217\n",
      "INFO:tensorflow:loss = 10.592278, step = 12101 (0.596 sec)\n",
      "INFO:tensorflow:global_step/sec: 162.078\n",
      "INFO:tensorflow:loss = 10.503805, step = 12201 (0.617 sec)\n",
      "INFO:tensorflow:global_step/sec: 152.965\n",
      "INFO:tensorflow:loss = 10.096083, step = 12301 (0.658 sec)\n",
      "INFO:tensorflow:global_step/sec: 140.768\n",
      "INFO:tensorflow:loss = 8.942554, step = 12401 (0.707 sec)\n",
      "INFO:tensorflow:global_step/sec: 147.029\n",
      "INFO:tensorflow:loss = 13.556084, step = 12501 (0.682 sec)\n",
      "INFO:tensorflow:global_step/sec: 156.239\n",
      "INFO:tensorflow:loss = 12.291732, step = 12601 (0.638 sec)\n",
      "INFO:tensorflow:global_step/sec: 152.596\n",
      "INFO:tensorflow:loss = 5.568235, step = 12701 (0.658 sec)\n",
      "INFO:tensorflow:global_step/sec: 150.848\n",
      "INFO:tensorflow:loss = 12.539244, step = 12801 (0.662 sec)\n",
      "INFO:tensorflow:global_step/sec: 161.448\n",
      "INFO:tensorflow:loss = 16.453352, step = 12901 (0.618 sec)\n",
      "INFO:tensorflow:global_step/sec: 156.812\n",
      "INFO:tensorflow:loss = 10.351771, step = 13001 (0.644 sec)\n",
      "INFO:tensorflow:global_step/sec: 156.729\n",
      "INFO:tensorflow:loss = 10.841614, step = 13101 (0.632 sec)\n",
      "INFO:tensorflow:global_step/sec: 156.506\n",
      "INFO:tensorflow:loss = 8.052719, step = 13201 (0.641 sec)\n",
      "INFO:tensorflow:global_step/sec: 154.43\n",
      "INFO:tensorflow:loss = 15.807618, step = 13301 (0.649 sec)\n",
      "INFO:tensorflow:global_step/sec: 87.0742\n",
      "INFO:tensorflow:loss = 6.5301666, step = 13401 (1.153 sec)\n",
      "INFO:tensorflow:global_step/sec: 79.9136\n",
      "INFO:tensorflow:loss = 14.3957, step = 13501 (1.251 sec)\n",
      "INFO:tensorflow:global_step/sec: 88.0151\n",
      "INFO:tensorflow:loss = 7.353079, step = 13601 (1.139 sec)\n",
      "INFO:tensorflow:global_step/sec: 75.3081\n",
      "INFO:tensorflow:loss = 7.245294, step = 13701 (1.321 sec)\n",
      "INFO:tensorflow:global_step/sec: 78.7571\n",
      "INFO:tensorflow:loss = 8.953059, step = 13801 (1.270 sec)\n",
      "INFO:tensorflow:global_step/sec: 73.6738\n",
      "INFO:tensorflow:loss = 9.599573, step = 13901 (1.356 sec)\n",
      "INFO:tensorflow:global_step/sec: 58.6661\n",
      "INFO:tensorflow:loss = 13.294662, step = 14001 (1.705 sec)\n",
      "INFO:tensorflow:global_step/sec: 51.6265\n",
      "INFO:tensorflow:loss = 8.476929, step = 14101 (1.937 sec)\n",
      "INFO:tensorflow:global_step/sec: 60.2176\n",
      "INFO:tensorflow:loss = 10.940689, step = 14201 (1.661 sec)\n",
      "INFO:tensorflow:global_step/sec: 71.3965\n",
      "INFO:tensorflow:loss = 7.885537, step = 14301 (1.403 sec)\n",
      "INFO:tensorflow:global_step/sec: 61.2928\n",
      "INFO:tensorflow:loss = 12.225649, step = 14401 (1.636 sec)\n",
      "INFO:tensorflow:global_step/sec: 54.9683\n",
      "INFO:tensorflow:loss = 9.305855, step = 14501 (1.812 sec)\n",
      "INFO:tensorflow:global_step/sec: 57.3975\n",
      "INFO:tensorflow:loss = 10.512999, step = 14601 (1.742 sec)\n",
      "INFO:tensorflow:global_step/sec: 159.215\n",
      "INFO:tensorflow:loss = 12.112903, step = 14701 (0.630 sec)\n",
      "INFO:tensorflow:global_step/sec: 65.538\n",
      "INFO:tensorflow:loss = 8.221701, step = 14801 (1.526 sec)\n",
      "INFO:tensorflow:global_step/sec: 63.6877\n",
      "INFO:tensorflow:loss = 10.623116, step = 14901 (1.569 sec)\n",
      "INFO:tensorflow:global_step/sec: 61.4561\n",
      "INFO:tensorflow:loss = 7.570964, step = 15001 (1.627 sec)\n",
      "INFO:tensorflow:global_step/sec: 68.2126\n",
      "INFO:tensorflow:loss = 10.424855, step = 15101 (1.469 sec)\n",
      "INFO:tensorflow:global_step/sec: 57.7389\n",
      "INFO:tensorflow:loss = 8.559275, step = 15201 (1.731 sec)\n",
      "INFO:tensorflow:global_step/sec: 55.9264\n",
      "INFO:tensorflow:loss = 8.098443, step = 15301 (1.789 sec)\n",
      "INFO:tensorflow:global_step/sec: 62.3058\n",
      "INFO:tensorflow:loss = 7.651451, step = 15401 (1.604 sec)\n",
      "INFO:tensorflow:global_step/sec: 62.1535\n",
      "INFO:tensorflow:loss = 6.1150885, step = 15501 (1.609 sec)\n",
      "INFO:tensorflow:global_step/sec: 58.6841\n",
      "INFO:tensorflow:loss = 8.001531, step = 15601 (1.702 sec)\n",
      "INFO:tensorflow:global_step/sec: 61.3952\n",
      "INFO:tensorflow:loss = 8.796976, step = 15701 (1.628 sec)\n",
      "INFO:tensorflow:global_step/sec: 63.2038\n",
      "INFO:tensorflow:loss = 8.749779, step = 15801 (1.585 sec)\n",
      "INFO:tensorflow:global_step/sec: 49.2844\n",
      "INFO:tensorflow:loss = 6.0684366, step = 15901 (2.031 sec)\n",
      "INFO:tensorflow:global_step/sec: 50.4493\n",
      "INFO:tensorflow:loss = 6.3637104, step = 16001 (1.980 sec)\n",
      "INFO:tensorflow:global_step/sec: 63.4491\n",
      "INFO:tensorflow:loss = 9.688572, step = 16101 (1.574 sec)\n",
      "INFO:tensorflow:global_step/sec: 60.7799\n",
      "INFO:tensorflow:loss = 10.248433, step = 16201 (1.647 sec)\n",
      "INFO:tensorflow:global_step/sec: 55.3212\n",
      "INFO:tensorflow:loss = 7.3617845, step = 16301 (1.805 sec)\n"
     ]
    },
    {
     "name": "stdout",
     "output_type": "stream",
     "text": [
      "INFO:tensorflow:global_step/sec: 52.6824\n",
      "INFO:tensorflow:loss = 7.8170853, step = 16401 (1.899 sec)\n",
      "INFO:tensorflow:global_step/sec: 76.9951\n",
      "INFO:tensorflow:loss = 4.772986, step = 16501 (1.297 sec)\n",
      "INFO:tensorflow:global_step/sec: 66.9292\n",
      "INFO:tensorflow:loss = 8.542789, step = 16601 (1.494 sec)\n",
      "INFO:tensorflow:global_step/sec: 167.9\n",
      "INFO:tensorflow:loss = 8.713685, step = 16701 (0.597 sec)\n",
      "INFO:tensorflow:global_step/sec: 84.7173\n",
      "INFO:tensorflow:loss = 10.334414, step = 16801 (1.180 sec)\n",
      "INFO:tensorflow:global_step/sec: 67.7567\n",
      "INFO:tensorflow:loss = 4.8626575, step = 16901 (1.475 sec)\n",
      "INFO:tensorflow:global_step/sec: 77.5905\n",
      "INFO:tensorflow:loss = 7.70811, step = 17001 (1.288 sec)\n",
      "INFO:tensorflow:global_step/sec: 84.1007\n",
      "INFO:tensorflow:loss = 7.6790276, step = 17101 (1.191 sec)\n",
      "INFO:tensorflow:global_step/sec: 162.223\n",
      "INFO:tensorflow:loss = 5.550972, step = 17201 (0.613 sec)\n",
      "INFO:tensorflow:global_step/sec: 180.159\n",
      "INFO:tensorflow:loss = 8.396481, step = 17301 (0.560 sec)\n",
      "INFO:tensorflow:global_step/sec: 177.604\n",
      "INFO:tensorflow:loss = 9.446792, step = 17401 (0.561 sec)\n",
      "INFO:tensorflow:global_step/sec: 117.649\n",
      "INFO:tensorflow:loss = 10.765064, step = 17501 (0.850 sec)\n",
      "INFO:tensorflow:global_step/sec: 99.7502\n",
      "INFO:tensorflow:loss = 5.6792884, step = 17601 (1.001 sec)\n",
      "INFO:tensorflow:global_step/sec: 100.595\n",
      "INFO:tensorflow:loss = 8.374891, step = 17701 (0.994 sec)\n",
      "INFO:tensorflow:global_step/sec: 112.99\n",
      "INFO:tensorflow:loss = 6.900301, step = 17801 (0.884 sec)\n",
      "INFO:tensorflow:global_step/sec: 138.592\n",
      "INFO:tensorflow:loss = 5.871852, step = 17901 (0.722 sec)\n",
      "INFO:tensorflow:global_step/sec: 167.202\n",
      "INFO:tensorflow:loss = 6.481194, step = 18001 (0.596 sec)\n",
      "INFO:tensorflow:global_step/sec: 181.576\n",
      "INFO:tensorflow:loss = 5.885563, step = 18101 (0.552 sec)\n",
      "INFO:tensorflow:global_step/sec: 175.489\n",
      "INFO:tensorflow:loss = 7.2719603, step = 18201 (0.568 sec)\n",
      "INFO:tensorflow:global_step/sec: 176.989\n",
      "INFO:tensorflow:loss = 7.1541767, step = 18301 (0.565 sec)\n",
      "INFO:tensorflow:global_step/sec: 172.426\n",
      "INFO:tensorflow:loss = 5.834853, step = 18401 (0.582 sec)\n",
      "INFO:tensorflow:global_step/sec: 168.642\n",
      "INFO:tensorflow:loss = 5.985242, step = 18501 (0.591 sec)\n",
      "INFO:tensorflow:global_step/sec: 176.966\n",
      "INFO:tensorflow:loss = 8.341884, step = 18601 (0.566 sec)\n",
      "INFO:tensorflow:global_step/sec: 174.3\n",
      "INFO:tensorflow:loss = 7.6552353, step = 18701 (0.573 sec)\n",
      "INFO:tensorflow:global_step/sec: 162.214\n",
      "INFO:tensorflow:loss = 6.103865, step = 18801 (0.619 sec)\n",
      "INFO:tensorflow:global_step/sec: 167.442\n",
      "INFO:tensorflow:loss = 5.2938027, step = 18901 (0.595 sec)\n",
      "INFO:tensorflow:global_step/sec: 186.032\n",
      "INFO:tensorflow:loss = 6.2191086, step = 19001 (0.539 sec)\n",
      "INFO:tensorflow:global_step/sec: 179.244\n",
      "INFO:tensorflow:loss = 6.0008006, step = 19101 (0.560 sec)\n",
      "INFO:tensorflow:global_step/sec: 169.263\n",
      "INFO:tensorflow:loss = 9.223112, step = 19201 (0.592 sec)\n",
      "INFO:tensorflow:global_step/sec: 165.264\n",
      "INFO:tensorflow:loss = 9.289854, step = 19301 (0.604 sec)\n",
      "INFO:tensorflow:global_step/sec: 168.819\n",
      "INFO:tensorflow:loss = 6.4665265, step = 19401 (0.595 sec)\n",
      "INFO:tensorflow:global_step/sec: 151.241\n",
      "INFO:tensorflow:loss = 6.5129356, step = 19501 (0.657 sec)\n",
      "INFO:tensorflow:global_step/sec: 148.005\n",
      "INFO:tensorflow:loss = 7.5473967, step = 19601 (0.676 sec)\n",
      "INFO:tensorflow:global_step/sec: 152.829\n",
      "INFO:tensorflow:loss = 5.994846, step = 19701 (0.653 sec)\n",
      "INFO:tensorflow:global_step/sec: 152.276\n",
      "INFO:tensorflow:loss = 4.7606897, step = 19801 (0.657 sec)\n",
      "INFO:tensorflow:global_step/sec: 159.709\n",
      "INFO:tensorflow:loss = 8.14793, step = 19901 (0.631 sec)\n",
      "INFO:tensorflow:Saving checkpoints for 20000 into /tmp/tmpefBpc7/model.ckpt.\n",
      "INFO:tensorflow:Loss for final step: 8.914389.\n"
     ]
    },
    {
     "data": {
      "text/plain": [
       "<tensorflow.python.estimator.canned.dnn.DNNRegressor at 0x7fdafe9aa290>"
      ]
     },
     "execution_count": 69,
     "metadata": {},
     "output_type": "execute_result"
    }
   ],
   "source": [
    "model.train(input_fn=input_fn(x_train, y_train, num_epochs=None, shuffle=True), steps=20000)"
   ]
  },
  {
   "cell_type": "code",
   "execution_count": 70,
   "metadata": {},
   "outputs": [
    {
     "name": "stdout",
     "output_type": "stream",
     "text": [
      "INFO:tensorflow:Calling model_fn.\n",
      "INFO:tensorflow:Done calling model_fn.\n",
      "INFO:tensorflow:Starting evaluation at 2019-01-24-14:22:18\n",
      "INFO:tensorflow:Graph was finalized.\n",
      "INFO:tensorflow:Restoring parameters from /tmp/tmpefBpc7/model.ckpt-20000\n",
      "INFO:tensorflow:Running local_init_op.\n",
      "INFO:tensorflow:Done running local_init_op.\n",
      "INFO:tensorflow:Finished evaluation at 2019-01-24-14:22:19\n",
      "INFO:tensorflow:Saving dict for global step 20000: average_loss = 0.092076205, global_step = 20000, loss = 2.9464386\n"
     ]
    }
   ],
   "source": [
    "results = model.evaluate(input_fn=input_fn(x_test, y_test, num_epochs=1, shuffle=False))"
   ]
  },
  {
   "cell_type": "code",
   "execution_count": 71,
   "metadata": {},
   "outputs": [
    {
     "name": "stdout",
     "output_type": "stream",
     "text": [
      "average_loss: 0.092076205\n",
      "global_step: 20000\n",
      "loss: 2.9464386\n"
     ]
    }
   ],
   "source": [
    "for key in sorted(results):\n",
    "    print(\"%s: %s\" % (key, results[key]))\n"
   ]
  },
  {
   "cell_type": "code",
   "execution_count": 72,
   "metadata": {},
   "outputs": [],
   "source": [
    "average_loss = results[\"average_loss\"]"
   ]
  },
  {
   "cell_type": "code",
   "execution_count": 73,
   "metadata": {},
   "outputs": [
    {
     "name": "stdout",
     "output_type": "stream",
     "text": [
      "\n",
      "RMS error for the test set: $3034\n"
     ]
    }
   ],
   "source": [
    "print(\"\\nRMS error for the test set: ${:.0f}\"\n",
    "        .format(PRICE_SCALING_FACTOR * average_loss**0.5))"
   ]
  },
  {
   "cell_type": "code",
   "execution_count": 74,
   "metadata": {},
   "outputs": [
    {
     "data": {
      "text/plain": [
       "(6, 6)"
      ]
     },
     "execution_count": 74,
     "metadata": {},
     "output_type": "execute_result"
    }
   ],
   "source": [
    "len(x_predict), len(y_predict)"
   ]
  },
  {
   "cell_type": "code",
   "execution_count": 75,
   "metadata": {},
   "outputs": [],
   "source": [
    "predict_results = model.predict(input_fn=input_fn(x_predict, y_predict, num_epochs=1, shuffle=False))"
   ]
  },
  {
   "cell_type": "code",
   "execution_count": 76,
   "metadata": {},
   "outputs": [
    {
     "name": "stdout",
     "output_type": "stream",
     "text": [
      "INFO:tensorflow:Calling model_fn.\n",
      "INFO:tensorflow:Done calling model_fn.\n",
      "INFO:tensorflow:Graph was finalized.\n",
      "INFO:tensorflow:Restoring parameters from /tmp/tmpefBpc7/model.ckpt-20000\n",
      "INFO:tensorflow:Running local_init_op.\n",
      "INFO:tensorflow:Done running local_init_op.\n"
     ]
    }
   ],
   "source": [
    "predictions = list(itertools.islice(predict_results, len(x_predict)))"
   ]
  },
  {
   "cell_type": "code",
   "execution_count": 77,
   "metadata": {},
   "outputs": [
    {
     "data": {
      "text/plain": [
       "[{'predictions': array([0.8276684], dtype=float32)},\n",
       " {'predictions': array([0.6876538], dtype=float32)},\n",
       " {'predictions': array([1.52543], dtype=float32)},\n",
       " {'predictions': array([0.81132627], dtype=float32)},\n",
       " {'predictions': array([0.82526517], dtype=float32)},\n",
       " {'predictions': array([1.6929028], dtype=float32)}]"
      ]
     },
     "execution_count": 77,
     "metadata": {},
     "output_type": "execute_result"
    }
   ],
   "source": [
    "predictions"
   ]
  },
  {
   "cell_type": "code",
   "execution_count": 78,
   "metadata": {},
   "outputs": [],
   "source": [
    "predicted_prices = [obj['predictions'][0] * PRICE_SCALING_FACTOR for obj in predictions]"
   ]
  },
  {
   "cell_type": "code",
   "execution_count": 79,
   "metadata": {},
   "outputs": [
    {
     "data": {
      "text/plain": [
       "[8276.684284210205,\n",
       " 6876.537799835205,\n",
       " 15254.299640655518,\n",
       " 8113.26265335083,\n",
       " 8252.651691436768,\n",
       " 16929.028034210205]"
      ]
     },
     "execution_count": 79,
     "metadata": {},
     "output_type": "execute_result"
    }
   ],
   "source": [
    "predicted_prices"
   ]
  },
  {
   "cell_type": "code",
   "execution_count": 80,
   "metadata": {},
   "outputs": [],
   "source": [
    "compare_df = x_predict.copy()"
   ]
  },
  {
   "cell_type": "code",
   "execution_count": 81,
   "metadata": {},
   "outputs": [
    {
     "data": {
      "text/html": [
       "<div>\n",
       "<style scoped>\n",
       "    .dataframe tbody tr th:only-of-type {\n",
       "        vertical-align: middle;\n",
       "    }\n",
       "\n",
       "    .dataframe tbody tr th {\n",
       "        vertical-align: top;\n",
       "    }\n",
       "\n",
       "    .dataframe thead th {\n",
       "        text-align: right;\n",
       "    }\n",
       "</style>\n",
       "<table border=\"1\" class=\"dataframe\">\n",
       "  <thead>\n",
       "    <tr style=\"text-align: right;\">\n",
       "      <th></th>\n",
       "      <th>make</th>\n",
       "      <th>fuel-type</th>\n",
       "      <th>aspiration</th>\n",
       "      <th>num-of-doors</th>\n",
       "      <th>body-style</th>\n",
       "      <th>drive-wheels</th>\n",
       "      <th>curb-weight</th>\n",
       "      <th>engine-type</th>\n",
       "      <th>num-of-cylinders</th>\n",
       "      <th>engine-size</th>\n",
       "      <th>fuel-system</th>\n",
       "      <th>horsepower</th>\n",
       "      <th>peak-rpm</th>\n",
       "      <th>city-mpg</th>\n",
       "      <th>highway-mpg</th>\n",
       "    </tr>\n",
       "  </thead>\n",
       "  <tbody>\n",
       "    <tr>\n",
       "      <th>52</th>\n",
       "      <td>mazda</td>\n",
       "      <td>gas</td>\n",
       "      <td>std</td>\n",
       "      <td>two</td>\n",
       "      <td>hatchback</td>\n",
       "      <td>fwd</td>\n",
       "      <td>1905.0</td>\n",
       "      <td>ohc</td>\n",
       "      <td>four</td>\n",
       "      <td>91.0</td>\n",
       "      <td>2bbl</td>\n",
       "      <td>68.0</td>\n",
       "      <td>5000.0</td>\n",
       "      <td>31.0</td>\n",
       "      <td>38.0</td>\n",
       "    </tr>\n",
       "    <tr>\n",
       "      <th>164</th>\n",
       "      <td>toyota</td>\n",
       "      <td>gas</td>\n",
       "      <td>std</td>\n",
       "      <td>two</td>\n",
       "      <td>hatchback</td>\n",
       "      <td>rwd</td>\n",
       "      <td>2204.0</td>\n",
       "      <td>ohc</td>\n",
       "      <td>four</td>\n",
       "      <td>98.0</td>\n",
       "      <td>2bbl</td>\n",
       "      <td>70.0</td>\n",
       "      <td>4800.0</td>\n",
       "      <td>29.0</td>\n",
       "      <td>34.0</td>\n",
       "    </tr>\n",
       "    <tr>\n",
       "      <th>133</th>\n",
       "      <td>saab</td>\n",
       "      <td>gas</td>\n",
       "      <td>std</td>\n",
       "      <td>four</td>\n",
       "      <td>sedan</td>\n",
       "      <td>fwd</td>\n",
       "      <td>2695.0</td>\n",
       "      <td>ohc</td>\n",
       "      <td>four</td>\n",
       "      <td>121.0</td>\n",
       "      <td>mpfi</td>\n",
       "      <td>110.0</td>\n",
       "      <td>5250.0</td>\n",
       "      <td>21.0</td>\n",
       "      <td>28.0</td>\n",
       "    </tr>\n",
       "    <tr>\n",
       "      <th>149</th>\n",
       "      <td>subaru</td>\n",
       "      <td>gas</td>\n",
       "      <td>turbo</td>\n",
       "      <td>four</td>\n",
       "      <td>wagon</td>\n",
       "      <td>4wd</td>\n",
       "      <td>2650.0</td>\n",
       "      <td>ohcf</td>\n",
       "      <td>four</td>\n",
       "      <td>108.0</td>\n",
       "      <td>mpfi</td>\n",
       "      <td>111.0</td>\n",
       "      <td>4800.0</td>\n",
       "      <td>23.0</td>\n",
       "      <td>23.0</td>\n",
       "    </tr>\n",
       "    <tr>\n",
       "      <th>51</th>\n",
       "      <td>mazda</td>\n",
       "      <td>gas</td>\n",
       "      <td>std</td>\n",
       "      <td>two</td>\n",
       "      <td>hatchback</td>\n",
       "      <td>fwd</td>\n",
       "      <td>1900.0</td>\n",
       "      <td>ohc</td>\n",
       "      <td>four</td>\n",
       "      <td>91.0</td>\n",
       "      <td>2bbl</td>\n",
       "      <td>68.0</td>\n",
       "      <td>5000.0</td>\n",
       "      <td>31.0</td>\n",
       "      <td>38.0</td>\n",
       "    </tr>\n",
       "    <tr>\n",
       "      <th>195</th>\n",
       "      <td>volvo</td>\n",
       "      <td>gas</td>\n",
       "      <td>std</td>\n",
       "      <td>four</td>\n",
       "      <td>wagon</td>\n",
       "      <td>rwd</td>\n",
       "      <td>3034.0</td>\n",
       "      <td>ohc</td>\n",
       "      <td>four</td>\n",
       "      <td>141.0</td>\n",
       "      <td>mpfi</td>\n",
       "      <td>114.0</td>\n",
       "      <td>5400.0</td>\n",
       "      <td>23.0</td>\n",
       "      <td>28.0</td>\n",
       "    </tr>\n",
       "  </tbody>\n",
       "</table>\n",
       "</div>"
      ],
      "text/plain": [
       "       make fuel-type aspiration num-of-doors body-style drive-wheels  \\\n",
       "52    mazda       gas        std          two  hatchback          fwd   \n",
       "164  toyota       gas        std          two  hatchback          rwd   \n",
       "133    saab       gas        std         four      sedan          fwd   \n",
       "149  subaru       gas      turbo         four      wagon          4wd   \n",
       "51    mazda       gas        std          two  hatchback          fwd   \n",
       "195   volvo       gas        std         four      wagon          rwd   \n",
       "\n",
       "     curb-weight engine-type num-of-cylinders  engine-size fuel-system  \\\n",
       "52        1905.0         ohc             four         91.0        2bbl   \n",
       "164       2204.0         ohc             four         98.0        2bbl   \n",
       "133       2695.0         ohc             four        121.0        mpfi   \n",
       "149       2650.0        ohcf             four        108.0        mpfi   \n",
       "51        1900.0         ohc             four         91.0        2bbl   \n",
       "195       3034.0         ohc             four        141.0        mpfi   \n",
       "\n",
       "     horsepower  peak-rpm  city-mpg  highway-mpg  \n",
       "52         68.0    5000.0      31.0         38.0  \n",
       "164        70.0    4800.0      29.0         34.0  \n",
       "133       110.0    5250.0      21.0         28.0  \n",
       "149       111.0    4800.0      23.0         23.0  \n",
       "51         68.0    5000.0      31.0         38.0  \n",
       "195       114.0    5400.0      23.0         28.0  "
      ]
     },
     "execution_count": 81,
     "metadata": {},
     "output_type": "execute_result"
    }
   ],
   "source": [
    "compare_df"
   ]
  },
  {
   "cell_type": "code",
   "execution_count": 82,
   "metadata": {},
   "outputs": [],
   "source": [
    "compare_df['actual-price'] = y_predict\n",
    "compare_df['predicted-price'] = predicted_prices"
   ]
  },
  {
   "cell_type": "code",
   "execution_count": 83,
   "metadata": {},
   "outputs": [
    {
     "data": {
      "text/html": [
       "<div>\n",
       "<style scoped>\n",
       "    .dataframe tbody tr th:only-of-type {\n",
       "        vertical-align: middle;\n",
       "    }\n",
       "\n",
       "    .dataframe tbody tr th {\n",
       "        vertical-align: top;\n",
       "    }\n",
       "\n",
       "    .dataframe thead th {\n",
       "        text-align: right;\n",
       "    }\n",
       "</style>\n",
       "<table border=\"1\" class=\"dataframe\">\n",
       "  <thead>\n",
       "    <tr style=\"text-align: right;\">\n",
       "      <th></th>\n",
       "      <th>make</th>\n",
       "      <th>fuel-type</th>\n",
       "      <th>aspiration</th>\n",
       "      <th>num-of-doors</th>\n",
       "      <th>body-style</th>\n",
       "      <th>drive-wheels</th>\n",
       "      <th>curb-weight</th>\n",
       "      <th>engine-type</th>\n",
       "      <th>num-of-cylinders</th>\n",
       "      <th>engine-size</th>\n",
       "      <th>fuel-system</th>\n",
       "      <th>horsepower</th>\n",
       "      <th>peak-rpm</th>\n",
       "      <th>city-mpg</th>\n",
       "      <th>highway-mpg</th>\n",
       "      <th>actual-price</th>\n",
       "      <th>predicted-price</th>\n",
       "    </tr>\n",
       "  </thead>\n",
       "  <tbody>\n",
       "    <tr>\n",
       "      <th>52</th>\n",
       "      <td>mazda</td>\n",
       "      <td>gas</td>\n",
       "      <td>std</td>\n",
       "      <td>two</td>\n",
       "      <td>hatchback</td>\n",
       "      <td>fwd</td>\n",
       "      <td>1905.0</td>\n",
       "      <td>ohc</td>\n",
       "      <td>four</td>\n",
       "      <td>91.0</td>\n",
       "      <td>2bbl</td>\n",
       "      <td>68.0</td>\n",
       "      <td>5000.0</td>\n",
       "      <td>31.0</td>\n",
       "      <td>38.0</td>\n",
       "      <td>6795.0</td>\n",
       "      <td>8276.684284</td>\n",
       "    </tr>\n",
       "    <tr>\n",
       "      <th>164</th>\n",
       "      <td>toyota</td>\n",
       "      <td>gas</td>\n",
       "      <td>std</td>\n",
       "      <td>two</td>\n",
       "      <td>hatchback</td>\n",
       "      <td>rwd</td>\n",
       "      <td>2204.0</td>\n",
       "      <td>ohc</td>\n",
       "      <td>four</td>\n",
       "      <td>98.0</td>\n",
       "      <td>2bbl</td>\n",
       "      <td>70.0</td>\n",
       "      <td>4800.0</td>\n",
       "      <td>29.0</td>\n",
       "      <td>34.0</td>\n",
       "      <td>8238.0</td>\n",
       "      <td>6876.537800</td>\n",
       "    </tr>\n",
       "    <tr>\n",
       "      <th>133</th>\n",
       "      <td>saab</td>\n",
       "      <td>gas</td>\n",
       "      <td>std</td>\n",
       "      <td>four</td>\n",
       "      <td>sedan</td>\n",
       "      <td>fwd</td>\n",
       "      <td>2695.0</td>\n",
       "      <td>ohc</td>\n",
       "      <td>four</td>\n",
       "      <td>121.0</td>\n",
       "      <td>mpfi</td>\n",
       "      <td>110.0</td>\n",
       "      <td>5250.0</td>\n",
       "      <td>21.0</td>\n",
       "      <td>28.0</td>\n",
       "      <td>12170.0</td>\n",
       "      <td>15254.299641</td>\n",
       "    </tr>\n",
       "    <tr>\n",
       "      <th>149</th>\n",
       "      <td>subaru</td>\n",
       "      <td>gas</td>\n",
       "      <td>turbo</td>\n",
       "      <td>four</td>\n",
       "      <td>wagon</td>\n",
       "      <td>4wd</td>\n",
       "      <td>2650.0</td>\n",
       "      <td>ohcf</td>\n",
       "      <td>four</td>\n",
       "      <td>108.0</td>\n",
       "      <td>mpfi</td>\n",
       "      <td>111.0</td>\n",
       "      <td>4800.0</td>\n",
       "      <td>23.0</td>\n",
       "      <td>23.0</td>\n",
       "      <td>11694.0</td>\n",
       "      <td>8113.262653</td>\n",
       "    </tr>\n",
       "    <tr>\n",
       "      <th>51</th>\n",
       "      <td>mazda</td>\n",
       "      <td>gas</td>\n",
       "      <td>std</td>\n",
       "      <td>two</td>\n",
       "      <td>hatchback</td>\n",
       "      <td>fwd</td>\n",
       "      <td>1900.0</td>\n",
       "      <td>ohc</td>\n",
       "      <td>four</td>\n",
       "      <td>91.0</td>\n",
       "      <td>2bbl</td>\n",
       "      <td>68.0</td>\n",
       "      <td>5000.0</td>\n",
       "      <td>31.0</td>\n",
       "      <td>38.0</td>\n",
       "      <td>6095.0</td>\n",
       "      <td>8252.651691</td>\n",
       "    </tr>\n",
       "    <tr>\n",
       "      <th>195</th>\n",
       "      <td>volvo</td>\n",
       "      <td>gas</td>\n",
       "      <td>std</td>\n",
       "      <td>four</td>\n",
       "      <td>wagon</td>\n",
       "      <td>rwd</td>\n",
       "      <td>3034.0</td>\n",
       "      <td>ohc</td>\n",
       "      <td>four</td>\n",
       "      <td>141.0</td>\n",
       "      <td>mpfi</td>\n",
       "      <td>114.0</td>\n",
       "      <td>5400.0</td>\n",
       "      <td>23.0</td>\n",
       "      <td>28.0</td>\n",
       "      <td>13415.0</td>\n",
       "      <td>16929.028034</td>\n",
       "    </tr>\n",
       "  </tbody>\n",
       "</table>\n",
       "</div>"
      ],
      "text/plain": [
       "       make fuel-type aspiration num-of-doors body-style drive-wheels  \\\n",
       "52    mazda       gas        std          two  hatchback          fwd   \n",
       "164  toyota       gas        std          two  hatchback          rwd   \n",
       "133    saab       gas        std         four      sedan          fwd   \n",
       "149  subaru       gas      turbo         four      wagon          4wd   \n",
       "51    mazda       gas        std          two  hatchback          fwd   \n",
       "195   volvo       gas        std         four      wagon          rwd   \n",
       "\n",
       "     curb-weight engine-type num-of-cylinders  engine-size fuel-system  \\\n",
       "52        1905.0         ohc             four         91.0        2bbl   \n",
       "164       2204.0         ohc             four         98.0        2bbl   \n",
       "133       2695.0         ohc             four        121.0        mpfi   \n",
       "149       2650.0        ohcf             four        108.0        mpfi   \n",
       "51        1900.0         ohc             four         91.0        2bbl   \n",
       "195       3034.0         ohc             four        141.0        mpfi   \n",
       "\n",
       "     horsepower  peak-rpm  city-mpg  highway-mpg  actual-price  \\\n",
       "52         68.0    5000.0      31.0         38.0        6795.0   \n",
       "164        70.0    4800.0      29.0         34.0        8238.0   \n",
       "133       110.0    5250.0      21.0         28.0       12170.0   \n",
       "149       111.0    4800.0      23.0         23.0       11694.0   \n",
       "51         68.0    5000.0      31.0         38.0        6095.0   \n",
       "195       114.0    5400.0      23.0         28.0       13415.0   \n",
       "\n",
       "     predicted-price  \n",
       "52       8276.684284  \n",
       "164      6876.537800  \n",
       "133     15254.299641  \n",
       "149      8113.262653  \n",
       "51       8252.651691  \n",
       "195     16929.028034  "
      ]
     },
     "execution_count": 83,
     "metadata": {},
     "output_type": "execute_result"
    }
   ],
   "source": [
    "compare_df"
   ]
  },
  {
   "cell_type": "code",
   "execution_count": null,
   "metadata": {},
   "outputs": [],
   "source": []
  },
  {
   "cell_type": "code",
   "execution_count": null,
   "metadata": {},
   "outputs": [],
   "source": []
  },
  {
   "cell_type": "code",
   "execution_count": null,
   "metadata": {},
   "outputs": [],
   "source": []
  },
  {
   "cell_type": "code",
   "execution_count": null,
   "metadata": {},
   "outputs": [],
   "source": []
  }
 ],
 "metadata": {
  "kernelspec": {
   "display_name": "Python 2",
   "language": "python",
   "name": "python2"
  },
  "language_info": {
   "codemirror_mode": {
    "name": "ipython",
    "version": 2
   },
   "file_extension": ".py",
   "mimetype": "text/x-python",
   "name": "python",
   "nbconvert_exporter": "python",
   "pygments_lexer": "ipython2",
   "version": "2.7.15"
  }
 },
 "nbformat": 4,
 "nbformat_minor": 2
}
